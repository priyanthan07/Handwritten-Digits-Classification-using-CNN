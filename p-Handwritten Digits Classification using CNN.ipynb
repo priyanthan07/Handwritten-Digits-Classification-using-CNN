{
 "cells": [
  {
   "cell_type": "code",
   "execution_count": 1,
   "id": "277ec161-bac5-45c6-b073-a4fc39064cce",
   "metadata": {},
   "outputs": [],
   "source": [
    "import tensorflow as tf\n",
    "from tensorflow.keras import layers, models, datasets\n",
    "import matplotlib.pyplot as plt\n",
    "%matplotlib inline\n",
    "import numpy as np"
   ]
  },
  {
   "cell_type": "markdown",
   "id": "725fa644-9126-4ad7-9d78-187cd06e4a39",
   "metadata": {},
   "source": [
    "### loading data\n",
    "_____________________________________________________________________________________________________________________"
   ]
  },
  {
   "cell_type": "code",
   "execution_count": 2,
   "id": "df107bbc-1bf8-4ae8-86b3-cdb07c1f6c31",
   "metadata": {},
   "outputs": [],
   "source": [
    "(x_train,y_train),(x_test, y_test) = datasets.mnist.load_data()"
   ]
  },
  {
   "cell_type": "code",
   "execution_count": 60,
   "id": "4b53e19e-51d2-407d-9a0b-3d5d1cfda849",
   "metadata": {},
   "outputs": [
    {
     "data": {
      "text/plain": [
       "((60000, 28, 28), (60000,), (10000, 28, 28))"
      ]
     },
     "execution_count": 60,
     "metadata": {},
     "output_type": "execute_result"
    }
   ],
   "source": [
    "x_train.shape, y_train.shape, x_test.shape"
   ]
  },
  {
   "cell_type": "code",
   "execution_count": 5,
   "id": "d5a55a05-1914-408a-a221-e851f083b547",
   "metadata": {},
   "outputs": [
    {
     "data": {
      "text/plain": [
       "<matplotlib.image.AxesImage at 0x1fb3b32f190>"
      ]
     },
     "execution_count": 5,
     "metadata": {},
     "output_type": "execute_result"
    },
    {
     "data": {
      "image/png": "[encoded data removed]",
      "text/plain": [
       "<Figure size 640x480 with 1 Axes>"
      ]
     },
     "metadata": {},
     "output_type": "display_data"
    }
   ],
   "source": [
    "plt.imshow(x_train[0])"
   ]
  },
  {
   "cell_type": "code",
   "execution_count": 67,
   "id": "e97a3b31-9a47-46ec-a600-dfb2971f0c55",
   "metadata": {},
   "outputs": [
    {
     "data": {
      "text/plain": [
       "(28, 28)"
      ]
     },
     "execution_count": 67,
     "metadata": {},
     "output_type": "execute_result"
    }
   ],
   "source": [
    "x_train[0].shape"
   ]
  },
  {
   "cell_type": "code",
   "execution_count": 76,
   "id": "21cccb37-c805-476e-841d-39dace043fbe",
   "metadata": {},
   "outputs": [
    {
     "data": {
      "text/plain": [
       "(60000, 28, 28, 1)"
      ]
     },
     "execution_count": 76,
     "metadata": {},
     "output_type": "execute_result"
    }
   ],
   "source": [
    "x_train_reshaped = x_train.reshape(-1, 28, 28,1)\n",
    "x_train_reshaped.shape"
   ]
  },
  {
   "cell_type": "code",
   "execution_count": 77,
   "id": "cb5e233d-747f-4e24-80f4-47a9e1275d4f",
   "metadata": {},
   "outputs": [
    {
     "data": {
      "text/plain": [
       "(10000, 28, 28, 1)"
      ]
     },
     "execution_count": 77,
     "metadata": {},
     "output_type": "execute_result"
    }
   ],
   "source": [
    "x_test_reshaped = x_test.reshape(-1, 28, 28,1)\n",
    "x_test_reshaped.shape"
   ]
  },
  {
   "cell_type": "code",
   "execution_count": 78,
   "id": "68148786-7e2f-4d54-abab-83352bb45904",
   "metadata": {},
   "outputs": [
    {
     "data": {
      "text/plain": [
       "(28, 28)"
      ]
     },
     "execution_count": 78,
     "metadata": {},
     "output_type": "execute_result"
    }
   ],
   "source": [
    "x_train[0].shape"
   ]
  },
  {
   "cell_type": "code",
   "execution_count": 79,
   "id": "c7a3f4de-d86f-458a-94be-6567d690fb75",
   "metadata": {},
   "outputs": [
    {
     "data": {
      "text/plain": [
       "array([5, 0, 4, 1, 9, 2, 1, 3], dtype=uint8)"
      ]
     },
     "execution_count": 79,
     "metadata": {},
     "output_type": "execute_result"
    }
   ],
   "source": [
    "y_train[:8]"
   ]
  },
  {
   "cell_type": "code",
   "execution_count": 80,
   "id": "70c76233-e69b-4541-bb1a-4b2572e99847",
   "metadata": {},
   "outputs": [],
   "source": [
    "# scale the images\n",
    "x_train_reshaped = x_train_reshaped/255\n",
    "x_test_reshaped = x_test_reshaped /255"
   ]
  },
  {
   "cell_type": "markdown",
   "id": "600b002b-c32f-4a80-8e26-60ef1da8780f",
   "metadata": {},
   "source": [
    "### model building\n",
    "_________________________________"
   ]
  },
  {
   "cell_type": "code",
   "execution_count": 117,
   "id": "446eaca3-d278-48e3-afde-721c4bba76e6",
   "metadata": {},
   "outputs": [],
   "source": [
    "CNN = models.Sequential([\n",
    "    #layers.Reshape((28, 28, 1), input_shape=(28, 28)),\n",
    "    layers.Conv2D(filters = 32, kernel_size=(3,3), activation= \"relu\", input_shape = (28, 28,1)),\n",
    "    layers.MaxPooling2D(2,2),\n",
    "    layers.Conv2D(filters = 32, kernel_size=(3,3), activation= \"relu\"),\n",
    "    layers.MaxPooling2D(2,2),\n",
    "    layers.Conv2D(filters = 64, kernel_size=(3,3), activation= \"relu\"),\n",
    "    layers.MaxPooling2D(2,2),\n",
    "\n",
    "    layers.Flatten(),\n",
    "    layers.Dense(30, activation= \"relu\"),\n",
    "    layers.Dense(10, activation= \"softmax\"),\n",
    "])"
   ]
  },
  {
   "cell_type": "code",
   "execution_count": 118,
   "id": "fa19a8d8-72a6-4b8a-918b-8a079cf7361b",
   "metadata": {},
   "outputs": [],
   "source": [
    "CNN.compile( optimizer = \"adam\",\n",
    "            loss = \"sparse_categorical_crossentropy\",\n",
    "            metrics = [\"accuracy\"]\n",
    ")"
   ]
  },
  {
   "cell_type": "code",
   "execution_count": 119,
   "id": "e89adc6e-feed-4895-b15f-d8a1b74f4ddb",
   "metadata": {},
   "outputs": [
    {
     "name": "stdout",
     "output_type": "stream",
     "text": [
      "Epoch 1/5\n",
      "1875/1875 [==============================] - 29s 15ms/step - loss: 1.1195 - accuracy: 0.6155\n",
      "Epoch 2/5\n",
      "1875/1875 [==============================] - 30s 16ms/step - loss: 0.3908 - accuracy: 0.8825\n",
      "Epoch 3/5\n",
      "1875/1875 [==============================] - 31s 17ms/step - loss: 0.2848 - accuracy: 0.9143\n",
      "Epoch 4/5\n",
      "1875/1875 [==============================] - 31s 17ms/step - loss: 0.2380 - accuracy: 0.9285\n",
      "Epoch 5/5\n",
      "1875/1875 [==============================] - 30s 16ms/step - loss: 0.2087 - accuracy: 0.9371\n"
     ]
    },
    {
     "data": {
      "text/plain": [
       "<keras.src.callbacks.History at 0x1fb5e85ba50>"
      ]
     },
     "execution_count": 119,
     "metadata": {},
     "output_type": "execute_result"
    }
   ],
   "source": [
    "CNN.fit(x_train_reshaped, y_train, epochs = 5)"
   ]
  },
  {
   "cell_type": "code",
   "execution_count": 98,
   "id": "d4f94770-595c-4baa-83d2-c28ea6b981dc",
   "metadata": {},
   "outputs": [
    {
     "name": "stdout",
     "output_type": "stream",
     "text": [
      "313/313 [==============================] - 1s 3ms/step - loss: 0.1328 - accuracy: 0.9578\n"
     ]
    },
    {
     "data": {
      "text/plain": [
       "[0.1327843815088272, 0.9577999711036682]"
      ]
     },
     "execution_count": 98,
     "metadata": {},
     "output_type": "execute_result"
    }
   ],
   "source": [
    "CNN.evaluate(x_test_reshaped, y_test)"
   ]
  },
  {
   "cell_type": "code",
   "execution_count": 106,
   "id": "cf2ba04d-cc9c-4ac2-b200-d6761f039ffa",
   "metadata": {},
   "outputs": [
    {
     "name": "stdout",
     "output_type": "stream",
     "text": [
      "313/313 [==============================] - 1s 3ms/step\n"
     ]
    }
   ],
   "source": [
    "y_pred = CNN.predict(x_test)"
   ]
  },
  {
   "cell_type": "code",
   "execution_count": null,
   "id": "1d0257cb-74ba-4680-894f-aa9360abc3eb",
   "metadata": {
    "scrolled": true
   },
   "outputs": [],
   "source": [
    "y_prediction = [np.argmax(element) for element in y_pred]\n",
    "y_prediction"
   ]
  },
  {
   "cell_type": "code",
   "execution_count": 109,
   "id": "d691f9de-5a9e-4989-8d2c-0e87b5f9b728",
   "metadata": {},
   "outputs": [
    {
     "name": "stdout",
     "output_type": "stream",
     "text": [
      "              precision    recall  f1-score   support\n",
      "\n",
      "           0       0.96      0.98      0.97       980\n",
      "           1       0.85      1.00      0.92      1135\n",
      "           2       0.95      0.93      0.94      1032\n",
      "           3       0.85      0.96      0.90      1010\n",
      "           4       0.92      0.96      0.94       982\n",
      "           5       0.92      0.95      0.93       892\n",
      "           6       0.98      0.94      0.96       958\n",
      "           7       0.69      0.97      0.81      1028\n",
      "           8       0.99      0.54      0.70       974\n",
      "           9       0.97      0.66      0.78      1009\n",
      "\n",
      "    accuracy                           0.89     10000\n",
      "   macro avg       0.91      0.89      0.88     10000\n",
      "weighted avg       0.90      0.89      0.88     10000\n",
      "\n"
     ]
    }
   ],
   "source": [
    "from sklearn.metrics import confusion_matrix, classification_report\n",
    "print(classification_report(y_test,y_prediction))\n"
   ]
  },
  {
   "cell_type": "code",
   "execution_count": 113,
   "id": "a81f6b1e-4945-4006-96b4-4398088e662b",
   "metadata": {},
   "outputs": [
    {
     "data": {
      "text/plain": [
       "Text(0.5, 1.0, 'confusion_matrix')"
      ]
     },
     "execution_count": 113,
     "metadata": {},
     "output_type": "execute_result"
    },
    {
     "data": {
      "image/png": "[encoded data removed]",
      "text/plain": [
       "<Figure size 1000x700 with 2 Axes>"
      ]
     },
     "metadata": {},
     "output_type": "display_data"
    }
   ],
   "source": [
    "import seaborn as sn\n",
    "plt.figure(figsize = (10,7))\n",
    "cm = confusion_matrix(y_test, y_prediction)\n",
    "sn.heatmap(cm, annot= True, fmt= 'd')\n",
    "plt.xlabel(\"Prediction\")\n",
    "plt.ylabel(\"Truth\")\n",
    "plt.title(\"confusion_matrix\")"
   ]
  },
  {
   "cell_type": "code",
   "execution_count": null,
   "id": "912a52b4-1a28-4e63-8620-e8818391f91d",
   "metadata": {},
   "outputs": [],
   "source": []
  }
 ],
 "metadata": {
  "kernelspec": {
   "display_name": "Python 3 (ipykernel)",
   "language": "python",
   "name": "python3"
  },
  "language_info": {
   "codemirror_mode": {
    "name": "ipython",
    "version": 3
   },
   "file_extension": ".py",
   "mimetype": "text/x-python",
   "name": "python",
   "nbconvert_exporter": "python",
   "pygments_lexer": "ipython3",
   "version": "3.11.5"
  }
 },
 "nbformat": 4,
 "nbformat_minor": 5
}
